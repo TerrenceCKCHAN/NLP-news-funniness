{
  "nbformat": 4,
  "nbformat_minor": 0,
  "metadata": {
    "kernelspec": {
      "display_name": "Python 3",
      "language": "python",
      "name": "python3"
    },
    "language_info": {
      "codemirror_mode": {
        "name": "ipython",
        "version": 3
      },
      "file_extension": ".py",
      "mimetype": "text/x-python",
      "name": "python",
      "nbconvert_exporter": "python",
      "pygments_lexer": "ipython3",
      "version": "3.7.1"
    },
    "colab": {
      "name": "Part2_experiments.ipynb",
      "provenance": [],
      "collapsed_sections": []
    }
  },
  "cells": [
    {
      "cell_type": "markdown",
      "metadata": {
        "id": "2TvyemfDlDmu"
      },
      "source": [
        "### Coursework coding instructions (please also see full coursework spec)\n",
        "\n",
        "Please choose if you want to do either Task 1 or Task 2. You should write your report about one task only.\n",
        "\n",
        "For the task you choose you will need to do two approaches:\n",
        "  - Approach 1, which can use use pre-trained embeddings / models\n",
        "  - Approach 2, which should not use any pre-trained embeddings or models\n",
        "We should be able to run both approaches from the same colab file\n",
        "\n",
        "#### Running your code:\n",
        "  - Your models should run automatically when running your colab file without further intervention\n",
        "  - For each task you should automatically output the performance of both models\n",
        "  - Your code should automatically download any libraries required\n",
        "\n",
        "#### Structure of your code:\n",
        "  - You are expected to use the 'train', 'eval' and 'model_performance' functions, although you may edit these as required\n",
        "  - Otherwise there are no restrictions on what you can do in your code\n",
        "\n",
        "#### Documentation:\n",
        "  - You are expected to produce a .README file summarising how you have approached both tasks\n",
        "\n",
        "#### Reproducibility:\n",
        "  - Your .README file should explain how to replicate the different experiments mentioned in your report\n",
        "\n",
        "Good luck! We are really looking forward to seeing your reports and your model code!"
      ]
    },
    {
      "cell_type": "code",
      "metadata": {
        "id": "LRWFk-kelDoA",
        "colab": {
          "base_uri": "https://localhost:8080/"
        },
        "outputId": "d17a20a0-0d4b-4134-eda5-888ef0bb93bf"
      },
      "source": [
        "# You will need to download any word embeddings required for your code, e.g.:\n",
        "\n",
        "!wget http://nlp.stanford.edu/data/glove.6B.zip\n",
        "!unzip glove.6B.zip\n",
        "\n",
        "# For any packages that Colab does not provide auotmatically you will also need to install these below, e.g.:\n",
        "\n",
        "#! pip install torch"
      ],
      "execution_count": null,
      "outputs": [
        {
          "output_type": "stream",
          "text": [
            "--2021-02-23 15:31:35--  http://nlp.stanford.edu/data/glove.6B.zip\n",
            "Resolving nlp.stanford.edu (nlp.stanford.edu)... 171.64.67.140\n",
            "Connecting to nlp.stanford.edu (nlp.stanford.edu)|171.64.67.140|:80... connected.\n",
            "HTTP request sent, awaiting response... 302 Found\n",
            "Location: https://nlp.stanford.edu/data/glove.6B.zip [following]\n",
            "--2021-02-23 15:31:35--  https://nlp.stanford.edu/data/glove.6B.zip\n",
            "Connecting to nlp.stanford.edu (nlp.stanford.edu)|171.64.67.140|:443... connected.\n",
            "HTTP request sent, awaiting response... 301 Moved Permanently\n",
            "Location: http://downloads.cs.stanford.edu/nlp/data/glove.6B.zip [following]\n",
            "--2021-02-23 15:31:35--  http://downloads.cs.stanford.edu/nlp/data/glove.6B.zip\n",
            "Resolving downloads.cs.stanford.edu (downloads.cs.stanford.edu)... 171.64.64.22\n",
            "Connecting to downloads.cs.stanford.edu (downloads.cs.stanford.edu)|171.64.64.22|:80... connected.\n",
            "HTTP request sent, awaiting response... 200 OK\n",
            "Length: 862182613 (822M) [application/zip]\n",
            "Saving to: ‘glove.6B.zip.1’\n",
            "\n",
            "glove.6B.zip.1      100%[===================>] 822.24M  2.02MB/s    in 6m 51s  \n",
            "\n",
            "2021-02-23 15:38:26 (2.00 MB/s) - ‘glove.6B.zip.1’ saved [862182613/862182613]\n",
            "\n",
            "Archive:  glove.6B.zip\n",
            "replace glove.6B.50d.txt? [y]es, [n]o, [A]ll, [N]one, [r]ename: n\n",
            "replace glove.6B.100d.txt? [y]es, [n]o, [A]ll, [N]one, [r]ename: n\n",
            "replace glove.6B.200d.txt? [y]es, [n]o, [A]ll, [N]one, [r]ename: n\n",
            "replace glove.6B.300d.txt? [y]es, [n]o, [A]ll, [N]one, [r]ename: n\n"
          ],
          "name": "stdout"
        }
      ]
    },
    {
      "cell_type": "code",
      "metadata": {
        "id": "WX9TqmK7lDoK"
      },
      "source": [
        "# Imports\n",
        "\n",
        "import torch\n",
        "import torch.nn as nn\n",
        "import pandas as pd\n",
        "import numpy as np\n",
        "from sklearn.feature_extraction.text import CountVectorizer\n",
        "from torch.utils.data import Dataset, random_split\n",
        "from sklearn.feature_extraction.text import TfidfTransformer\n",
        "from sklearn.model_selection import train_test_split\n",
        "from sklearn.linear_model import LinearRegression\n",
        "import codecs"
      ],
      "execution_count": 2,
      "outputs": []
    },
    {
      "cell_type": "code",
      "metadata": {
        "id": "X09jt8VRlDoM"
      },
      "source": [
        "# Setting random seed and device\n",
        "SEED = 1\n",
        "\n",
        "torch.manual_seed(SEED)\n",
        "torch.cuda.manual_seed(SEED)\n",
        "torch.backends.cudnn.deterministic = True\n",
        "\n",
        "use_cuda = torch.cuda.is_available()\n",
        "device = torch.device(\"cuda:0\" if use_cuda else \"cpu\")"
      ],
      "execution_count": 3,
      "outputs": []
    },
    {
      "cell_type": "code",
      "metadata": {
        "id": "B8--Eo2BFcEJ",
        "colab": {
          "base_uri": "https://localhost:8080/"
        },
        "outputId": "c165fb73-9d5e-4cf8-d195-1c8dd82ba451"
      },
      "source": [
        "from google.colab import drive\r\n",
        "drive.mount('/content/drive')"
      ],
      "execution_count": 4,
      "outputs": [
        {
          "output_type": "stream",
          "text": [
            "Mounted at /content/drive\n"
          ],
          "name": "stdout"
        }
      ]
    },
    {
      "cell_type": "code",
      "metadata": {
        "id": "AqhlzLl6lDoO"
      },
      "source": [
        "# Load data\n",
        "train_df = pd.read_csv('/content/drive/MyDrive/data/task-1/train.csv')\n",
        "test_df = pd.read_csv('/content/drive/MyDrive/data/task-1/dev.csv')"
      ],
      "execution_count": 5,
      "outputs": []
    },
    {
      "cell_type": "code",
      "metadata": {
        "id": "3RCmF7xulDoP"
      },
      "source": [
        "# Number of epochs\n",
        "epochs = 10\n",
        "\n",
        "# Proportion of training data for train compared to dev\n",
        "train_proportion = 0.8"
      ],
      "execution_count": 6,
      "outputs": []
    },
    {
      "cell_type": "code",
      "metadata": {
        "id": "qAgZW6K1lDoR"
      },
      "source": [
        "# We define our training loop\n",
        "def train(train_iter, dev_iter, model, number_epoch):\n",
        "    \"\"\"\n",
        "    Training loop for the model, which calls on eval to evaluate after each epoch\n",
        "    \"\"\"\n",
        "\n",
        "    \n",
        "    print(\"Training model.\")\n",
        "\n",
        "    for epoch in range(1, number_epoch+1):\n",
        "\n",
        "        model.train()\n",
        "        epoch_loss = 0\n",
        "        epoch_sse = 0\n",
        "        no_observations = 0  # Observations used for training so far\n",
        "\n",
        "        for batch in train_iter:\n",
        "\n",
        "            feature, target = batch\n",
        "\n",
        "            feature, target = feature.to(device), target.to(device)\n",
        "\n",
        "            # for RNN:\n",
        "            model.batch_size = target.shape[0]\n",
        "            no_observations = no_observations + target.shape[0]\n",
        "            model.hidden = model.init_hidden()\n",
        "\n",
        "            predictions = model(feature).squeeze(1)\n",
        "\n",
        "            optimizer.zero_grad()\n",
        "\n",
        "            loss = loss_fn(predictions, target)\n",
        "\n",
        "            sse, __ = model_performance(predictions.detach().cpu().numpy(), target.detach().cpu().numpy())\n",
        "\n",
        "            loss.backward()\n",
        "            optimizer.step()\n",
        "\n",
        "            epoch_loss += loss.item()*target.shape[0]\n",
        "            epoch_sse += sse\n",
        "\n",
        "        valid_loss, valid_mse, __, __ = eval(dev_iter, model)\n",
        "\n",
        "        epoch_loss, epoch_mse = epoch_loss / no_observations, epoch_sse / no_observations\n",
        "        print(f'| Epoch: {epoch:02} | Train Loss: {epoch_loss:.2f} | Train MSE: {epoch_mse:.2f} | Train RMSE: {epoch_mse**0.5:.2f} | \\\n",
        "        Val. Loss: {valid_loss:.2f} | Val. MSE: {valid_mse:.2f} |  Val. RMSE: {valid_mse**0.5:.2f} |')"
      ],
      "execution_count": 7,
      "outputs": []
    },
    {
      "cell_type": "code",
      "metadata": {
        "id": "NzXeDgHmlDob"
      },
      "source": [
        "# We evaluate performance on our dev set\n",
        "def eval(data_iter, model):\n",
        "    \"\"\"\n",
        "    Evaluating model performance on the dev set\n",
        "    \"\"\"\n",
        "    model.eval()\n",
        "    epoch_loss = 0\n",
        "    epoch_sse = 0\n",
        "    pred_all = []\n",
        "    trg_all = []\n",
        "    no_observations = 0\n",
        "\n",
        "    with torch.no_grad():\n",
        "        for batch in data_iter:\n",
        "            feature, target = batch\n",
        "\n",
        "            feature, target = feature.to(device), target.to(device)\n",
        "\n",
        "            # for RNN:\n",
        "            model.batch_size = target.shape[0]\n",
        "            no_observations = no_observations + target.shape[0]\n",
        "            model.hidden = model.init_hidden()\n",
        "\n",
        "            predictions = model(feature).squeeze(1)\n",
        "            loss = loss_fn(predictions, target)\n",
        "\n",
        "            # We get the mse\n",
        "            pred, trg = predictions.detach().cpu().numpy(), target.detach().cpu().numpy()\n",
        "            sse, __ = model_performance(pred, trg)\n",
        "\n",
        "            epoch_loss += loss.item()*target.shape[0]\n",
        "            epoch_sse += sse\n",
        "            pred_all.extend(pred)\n",
        "            trg_all.extend(trg)\n",
        "\n",
        "    return epoch_loss/no_observations, epoch_sse/no_observations, np.array(pred_all), np.array(trg_all)"
      ],
      "execution_count": 8,
      "outputs": []
    },
    {
      "cell_type": "code",
      "metadata": {
        "id": "2_22fHHElDog"
      },
      "source": [
        "# How we print the model performance\n",
        "def model_performance(output, target, print_output=False):\n",
        "    \"\"\"\n",
        "    Returns SSE and MSE per batch (printing the MSE and the RMSE)\n",
        "    \"\"\"\n",
        "\n",
        "    sq_error = (output - target)**2\n",
        "\n",
        "    sse = np.sum(sq_error)\n",
        "    mse = np.mean(sq_error)\n",
        "    rmse = np.sqrt(mse)\n",
        "\n",
        "    if print_output:\n",
        "        print(f'| MSE: {mse:.2f} | RMSE: {rmse:.2f} |')\n",
        "\n",
        "    return sse, mse"
      ],
      "execution_count": 9,
      "outputs": []
    },
    {
      "cell_type": "code",
      "metadata": {
        "id": "LcxmqrKhlDoj"
      },
      "source": [
        "def create_vocab(data):\n",
        "    \"\"\"\n",
        "    Creating a corpus of all the tokens used\n",
        "    \"\"\"\n",
        "    tokenized_corpus = [] # Let us put the tokenized corpus in a list\n",
        "\n",
        "    for sentence in data:\n",
        "\n",
        "        tokenized_sentence = []\n",
        "\n",
        "        for token in sentence.split(' '): # simplest split is\n",
        "\n",
        "            tokenized_sentence.append(token)\n",
        "\n",
        "        tokenized_corpus.append(tokenized_sentence)\n",
        "\n",
        "    # Create single list of all vocabulary\n",
        "    vocabulary = []  # Let us put all the tokens (mostly words) appearing in the vocabulary in a list\n",
        "\n",
        "    for sentence in tokenized_corpus:\n",
        "\n",
        "        for token in sentence:\n",
        "\n",
        "            if token not in vocabulary:\n",
        "\n",
        "                if True:\n",
        "                    vocabulary.append(token)\n",
        "\n",
        "    return vocabulary, tokenized_corpus"
      ],
      "execution_count": 10,
      "outputs": []
    },
    {
      "cell_type": "code",
      "metadata": {
        "id": "jzQ0KLXslDoq"
      },
      "source": [
        "def collate_fn_padd(batch):\n",
        "    '''\n",
        "    We add padding to our minibatches and create tensors for our model\n",
        "    '''\n",
        "\n",
        "    batch_labels = [l for f, l in batch]\n",
        "    batch_features = [f for f, l in batch]\n",
        "\n",
        "    batch_features_len = [len(f) for f, l in batch]\n",
        "\n",
        "    seq_tensor = torch.zeros((len(batch), max(batch_features_len))).long()\n",
        "\n",
        "    for idx, (seq, seqlen) in enumerate(zip(batch_features, batch_features_len)):\n",
        "        seq_tensor[idx, :seqlen] = torch.LongTensor(seq)\n",
        "\n",
        "    batch_labels = torch.FloatTensor(batch_labels)\n",
        "\n",
        "    return seq_tensor, batch_labels\n",
        "\n",
        "class Task1Dataset(Dataset):\n",
        "\n",
        "    def __init__(self, train_data, labels):\n",
        "        self.x_train = train_data\n",
        "        self.y_train = labels\n",
        "\n",
        "    def __len__(self):\n",
        "        return len(self.y_train)\n",
        "\n",
        "    def __getitem__(self, item):\n",
        "        return self.x_train[item], self.y_train[item]"
      ],
      "execution_count": 11,
      "outputs": []
    },
    {
      "cell_type": "code",
      "metadata": {
        "id": "sWaxTh2UlDoy"
      },
      "source": [
        "class BiLSTM(nn.Module):\n",
        "\n",
        "    def __init__(self, embedding_dim, hidden_dim, vocab_size, batch_size, device):\n",
        "        super(BiLSTM, self).__init__()\n",
        "        self.hidden_dim = hidden_dim\n",
        "        self.embedding_dim = embedding_dim\n",
        "        self.device = device\n",
        "        self.batch_size = batch_size\n",
        "        self.embedding = nn.Embedding(vocab_size, embedding_dim, padding_idx=0)\n",
        "\n",
        "        # The LSTM takes word embeddings as inputs, and outputs hidden states\n",
        "        # with dimensionality hidden_dim.\n",
        "        self.lstm = nn.LSTM(embedding_dim, hidden_dim, bidirectional=True)\n",
        "\n",
        "        # The linear layer that maps from hidden state space to tag space\n",
        "        self.hidden2label = nn.Linear(hidden_dim * 2, 1)\n",
        "        self.hidden = self.init_hidden()\n",
        "\n",
        "    def init_hidden(self):\n",
        "        # Before we've done anything, we dont have any hidden state.\n",
        "        # Refer to the Pytorch documentation to see exactly why they have this dimensionality.\n",
        "        # The axes semantics are (num_layers * num_directions, minibatch_size, hidden_dim)\n",
        "        return torch.zeros(2, self.batch_size, self.hidden_dim).to(self.device), \\\n",
        "               torch.zeros(2, self.batch_size, self.hidden_dim).to(self.device)\n",
        "\n",
        "    def forward(self, sentence):\n",
        "        embedded = self.embedding(sentence)\n",
        "        embedded = embedded.permute(1, 0, 2)\n",
        "\n",
        "        lstm_out, self.hidden = self.lstm(\n",
        "            embedded.view(len(embedded), self.batch_size, self.embedding_dim), self.hidden)\n",
        "\n",
        "        out = self.hidden2label(lstm_out[-1])\n",
        "        return out"
      ],
      "execution_count": null,
      "outputs": []
    },
    {
      "cell_type": "code",
      "metadata": {
        "id": "Zp872r-Mj9aC"
      },
      "source": [
        "## Approach 1 code, using functions defined above:\r\n",
        "\r\n",
        "# We set our training data and test data\r\n",
        "training_data = train_df['original']\r\n",
        "test_data = test_df['original']\r\n",
        "\r\n",
        "# Creating word vectors\r\n",
        "training_vocab, training_tokenized_corpus = create_vocab(training_data)\r\n",
        "test_vocab, test_tokenized_corpus = create_vocab(test_data)\r\n",
        "\r\n",
        "# Creating joint vocab from test and train:\r\n",
        "joint_vocab, joint_tokenized_corpus = create_vocab(pd.concat([training_data, test_data]))\r\n",
        "\r\n",
        "print(\"Vocab created.\")\r\n",
        "\r\n",
        "# We create representations for our tokens\r\n",
        "wvecs = [] # word vectors\r\n",
        "word2idx = [] # word2index\r\n",
        "idx2word = []\r\n",
        "\r\n",
        "# This is a large file, it will take a while to load in the memory!\r\n",
        "with codecs.open('glove.6B.100d.txt', 'r','utf-8') as f:\r\n",
        "  index = 1\r\n",
        "  for line in f.readlines():\r\n",
        "    # Ignore the first line - first line typically contains vocab, dimensionality\r\n",
        "    if len(line.strip().split()) > 3:\r\n",
        "      word = line.strip().split()[0]\r\n",
        "      if word in joint_vocab:\r\n",
        "          (word, vec) = (word,\r\n",
        "                     list(map(float,line.strip().split()[1:])))\r\n",
        "          wvecs.append(vec)\r\n",
        "          word2idx.append((word, index))\r\n",
        "          idx2word.append((index, word))\r\n",
        "          index += 1\r\n",
        "\r\n",
        "wvecs = np.array(wvecs)\r\n",
        "word2idx = dict(word2idx)\r\n",
        "idx2word = dict(idx2word)\r\n",
        "\r\n",
        "vectorized_seqs = [[word2idx[tok] for tok in seq if tok in word2idx] for seq in training_tokenized_corpus]\r\n",
        "\r\n",
        "# To avoid any sentences being empty (if no words match to our word embeddings)\r\n",
        "vectorized_seqs = [x if len(x) > 0 else [0] for x in vectorized_seqs]\r\n",
        "\r\n",
        "INPUT_DIM = len(word2idx)\r\n",
        "EMBEDDING_DIM = 100\r\n",
        "BATCH_SIZE = 32\r\n",
        "\r\n",
        "model = BiLSTM(EMBEDDING_DIM, 50, INPUT_DIM, BATCH_SIZE, device)\r\n",
        "print(\"Model initialised.\")\r\n",
        "\r\n",
        "model.to(device)\r\n",
        "# We provide the model with our embeddings\r\n",
        "model.embedding.weight.data.copy_(torch.from_numpy(wvecs))\r\n",
        "\r\n",
        "feature = vectorized_seqs\r\n",
        "\r\n",
        "# 'feature' is a list of lists, each containing embedding IDs for word tokens\r\n",
        "train_and_dev = Task1Dataset(feature, train_df['meanGrade'])\r\n",
        "\r\n",
        "train_examples = round(len(train_and_dev)*train_proportion)\r\n",
        "dev_examples = len(train_and_dev) - train_examples\r\n",
        "\r\n",
        "train_dataset, dev_dataset = random_split(train_and_dev,\r\n",
        "                                           (train_examples,\r\n",
        "                                            dev_examples))\r\n",
        "\r\n",
        "train_loader = torch.utils.data.DataLoader(train_dataset, shuffle=True, batch_size=BATCH_SIZE, collate_fn=collate_fn_padd)\r\n",
        "dev_loader = torch.utils.data.DataLoader(dev_dataset, batch_size=BATCH_SIZE, collate_fn=collate_fn_padd)\r\n",
        "\r\n",
        "print(\"Dataloaders created.\")\r\n",
        "\r\n",
        "loss_fn = nn.MSELoss()\r\n",
        "loss_fn = loss_fn.to(device)\r\n",
        "\r\n",
        "optimizer = torch.optim.Adam(model.parameters())\r\n",
        "\r\n",
        "train(train_loader, dev_loader, model, epochs)"
      ],
      "execution_count": null,
      "outputs": []
    },
    {
      "cell_type": "markdown",
      "metadata": {
        "id": "rdeFaoc3lDpK"
      },
      "source": [
        "#### Approach 2: No pre-trained representations"
      ]
    },
    {
      "cell_type": "code",
      "metadata": {
        "id": "46gm47T4lDpQ",
        "colab": {
          "base_uri": "https://localhost:8080/"
        },
        "outputId": "8c8066d7-1408-4ddc-f89b-fceeb66d77a1"
      },
      "source": [
        "train_and_dev = train_df['edit']\n",
        "\n",
        "training_data, dev_data, training_y, dev_y = train_test_split(train_df['edit'], train_df['meanGrade'],\n",
        "                                                                        test_size=(1-train_proportion),\n",
        "                                                                        random_state=42)\n",
        "\n",
        "# We train a Tf-idf model\n",
        "count_vect = CountVectorizer(stop_words='english')\n",
        "train_counts = count_vect.fit_transform(training_data)\n",
        "transformer = TfidfTransformer().fit(train_counts)\n",
        "train_counts = transformer.transform(train_counts)\n",
        "regression_model = LinearRegression().fit(train_counts, training_y)\n",
        "\n",
        "# Train predictions\n",
        "predicted_train = regression_model.predict(train_counts)\n",
        "\n",
        "# Calculate Tf-idf using train and dev, and validate model on dev:\n",
        "test_and_test_counts = count_vect.transform(train_and_dev)\n",
        "transformer = TfidfTransformer().fit(test_and_test_counts)\n",
        "\n",
        "test_counts = count_vect.transform(dev_data)\n",
        "\n",
        "test_counts = transformer.transform(test_counts)\n",
        "\n",
        "# Dev predictions\n",
        "predicted = regression_model.predict(test_counts)\n",
        "\n",
        "# We run the evaluation:\n",
        "print(\"\\nTrain performance:\")\n",
        "sse, mse = model_performance(predicted_train, training_y, True)\n",
        "\n",
        "print(\"\\nDev performance:\")\n",
        "sse, mse = model_performance(predicted, dev_y, True)"
      ],
      "execution_count": null,
      "outputs": [
        {
          "output_type": "stream",
          "text": [
            "\n",
            "Train performance:\n",
            "| MSE: 0.13 | RMSE: 0.37 |\n",
            "\n",
            "Dev performance:\n",
            "| MSE: 0.36 | RMSE: 0.60 |\n"
          ],
          "name": "stdout"
        }
      ]
    },
    {
      "cell_type": "markdown",
      "metadata": {
        "id": "9HyHwHkUlDpa"
      },
      "source": [
        "#### Baseline for task 2"
      ]
    },
    {
      "cell_type": "code",
      "metadata": {
        "id": "7DA3q4o1lDpd",
        "colab": {
          "base_uri": "https://localhost:8080/"
        },
        "outputId": "7c8ab5ee-455b-42c7-e434-b3e26fdecad4"
      },
      "source": [
        "# Baseline for the task\n",
        "pred_baseline = torch.zeros(len(dev_y)) + np.mean(training_y)\n",
        "print(\"\\nBaseline performance:\")\n",
        "sse, mse = model_performance(pred_baseline, dev_y, True)"
      ],
      "execution_count": null,
      "outputs": [
        {
          "output_type": "stream",
          "text": [
            "\n",
            "Baseline performance:\n",
            "| MSE: 0.34 | RMSE: 0.58 |\n"
          ],
          "name": "stdout"
        }
      ]
    },
    {
      "cell_type": "code",
      "metadata": {
        "id": "L_irQj0h7Dkr",
        "colab": {
          "base_uri": "https://localhost:8080/"
        },
        "outputId": "001d2148-b71c-498f-8561-4d9648d2eddb"
      },
      "source": [
        "# Random Forest Regressor\r\n",
        "from sklearn.ensemble import RandomForestRegressor\r\n",
        "\r\n",
        "train_and_dev = train_df['edit']\r\n",
        "\r\n",
        "training_data, dev_data, training_y, dev_y = train_test_split(train_df['edit'], train_df['meanGrade'],\r\n",
        "                                                                        test_size=(1-train_proportion),\r\n",
        "                                                                        random_state=42)\r\n",
        "\r\n",
        "# We train a Tf-idf model\r\n",
        "count_vect = CountVectorizer(stop_words='english')\r\n",
        "train_counts = count_vect.fit_transform(training_data)\r\n",
        "transformer = TfidfTransformer().fit(train_counts)\r\n",
        "train_counts = transformer.transform(train_counts)\r\n",
        "regr = RandomForestRegressor(max_depth=20, random_state=0)\r\n",
        "regression_model = regr.fit(train_counts, training_y)\r\n",
        "\r\n",
        "# Train predictions\r\n",
        "predicted_train = regression_model.predict(train_counts)\r\n",
        "\r\n",
        "# Calculate Tf-idf using train and dev, and validate model on dev:\r\n",
        "test_and_test_counts = count_vect.transform(train_and_dev)\r\n",
        "transformer = TfidfTransformer().fit(test_and_test_counts)\r\n",
        "\r\n",
        "test_counts = count_vect.transform(dev_data)\r\n",
        "\r\n",
        "test_counts = transformer.transform(test_counts)\r\n",
        "\r\n",
        "# Dev predictions\r\n",
        "predicted = regression_model.predict(test_counts)\r\n",
        "\r\n",
        "# We run the evaluation:\r\n",
        "print(\"\\nTrain performance:\")\r\n",
        "sse, mse = model_performance(predicted_train, training_y, True)\r\n",
        "\r\n",
        "print(\"\\nDev performance:\")\r\n",
        "sse, mse = model_performance(predicted, dev_y, True)"
      ],
      "execution_count": null,
      "outputs": [
        {
          "output_type": "stream",
          "text": [
            "\n",
            "Train performance:\n",
            "| MSE: 0.32 | RMSE: 0.57 |\n",
            "\n",
            "Dev performance:\n",
            "| MSE: 0.33 | RMSE: 0.57 |\n"
          ],
          "name": "stdout"
        }
      ]
    },
    {
      "cell_type": "code",
      "metadata": {
        "id": "M_-U1wjh7B5H",
        "colab": {
          "base_uri": "https://localhost:8080/"
        },
        "outputId": "4f74cf56-8d93-4fd0-8041-d403e4a269f2"
      },
      "source": [
        "# SVM\r\n",
        "from sklearn import svm\r\n",
        "train_and_dev = train_df['edit']\r\n",
        "\r\n",
        "training_data, dev_data, training_y, dev_y = train_test_split(train_df['edit'], train_df['meanGrade'],\r\n",
        "                                                                        test_size=(1-train_proportion),\r\n",
        "                                                                        random_state=42)\r\n",
        "\r\n",
        "# We train a Tf-idf model\r\n",
        "count_vect = CountVectorizer(stop_words='english')\r\n",
        "train_counts = count_vect.fit_transform(training_data)\r\n",
        "transformer = TfidfTransformer().fit(train_counts)\r\n",
        "train_counts = transformer.transform(train_counts)\r\n",
        "model = svm.SVR(C=1.0, kernel='linear', degree=3, epsilon=0.2, gamma='auto')\r\n",
        "regression_model = model.fit(train_counts, training_y)\r\n",
        "\r\n",
        "# Train predictions\r\n",
        "predicted_train = regression_model.predict(train_counts)\r\n",
        "\r\n",
        "# Calculate Tf-idf using train and dev, and validate model on dev:\r\n",
        "test_and_test_counts = count_vect.transform(train_and_dev)\r\n",
        "transformer = TfidfTransformer().fit(test_and_test_counts)\r\n",
        "\r\n",
        "test_counts = count_vect.transform(dev_data)\r\n",
        "\r\n",
        "test_counts = transformer.transform(test_counts)\r\n",
        "\r\n",
        "# Dev predictions\r\n",
        "predicted = regression_model.predict(test_counts)\r\n",
        "\r\n",
        "# We run the evaluation:\r\n",
        "print(\"\\nTrain performance:\")\r\n",
        "sse, mse = model_performance(predicted_train, training_y, True)\r\n",
        "\r\n",
        "print(\"\\nDev performance:\")\r\n",
        "sse, mse = model_performance(predicted, dev_y, True)"
      ],
      "execution_count": null,
      "outputs": [
        {
          "output_type": "stream",
          "text": [
            "\n",
            "Train performance:\n",
            "| MSE: 0.16 | RMSE: 0.40 |\n",
            "\n",
            "Dev performance:\n",
            "| MSE: 0.34 | RMSE: 0.58 |\n"
          ],
          "name": "stdout"
        }
      ]
    },
    {
      "cell_type": "code",
      "metadata": {
        "colab": {
          "base_uri": "https://localhost:8080/"
        },
        "id": "5q2UnbMjVOe9",
        "outputId": "51dc2e0d-e827-44a0-fb6e-564041fc4fe3"
      },
      "source": [
        "# Naive Bayes- MultinomialNB\r\n",
        "import numpy as np\r\n",
        "from sklearn.naive_bayes import MultinomialNB\r\n",
        "train_and_dev = train_df['edit']\r\n",
        "\r\n",
        "training_data, dev_data, training_y, dev_y = train_test_split(train_df['edit'], train_df['meanGrade'],\r\n",
        "                                                                        test_size=(1-train_proportion),\r\n",
        "                                                                        random_state=42)\r\n",
        "\r\n",
        "# We train a Tf-idf model\r\n",
        "count_vect = CountVectorizer(stop_words='english')\r\n",
        "train_counts = count_vect.fit_transform(training_data)\r\n",
        "transformer = TfidfTransformer().fit(train_counts)\r\n",
        "train_counts = transformer.transform(train_counts)\r\n",
        "model = MultinomialNB()\r\n",
        "regression_model = model.fit(train_counts, training_y.astype('int'))\r\n",
        "\r\n",
        "# Train predictions\r\n",
        "predicted_train = regression_model.predict(train_counts)\r\n",
        "\r\n",
        "# Calculate Tf-idf using train and dev, and validate model on dev:\r\n",
        "test_and_test_counts = count_vect.transform(train_and_dev)\r\n",
        "transformer = TfidfTransformer().fit(test_and_test_counts)\r\n",
        "\r\n",
        "test_counts = count_vect.transform(dev_data)\r\n",
        "\r\n",
        "test_counts = transformer.transform(test_counts)\r\n",
        "\r\n",
        "# Dev predictions\r\n",
        "predicted = regression_model.predict(test_counts)\r\n",
        "\r\n",
        "# We run the evaluation:\r\n",
        "print(\"\\nTrain performance:\")\r\n",
        "sse, mse = model_performance(predicted_train, training_y, True)\r\n",
        "\r\n",
        "print(\"\\nDev performance:\")\r\n",
        "sse, mse = model_performance(predicted, dev_y, True)"
      ],
      "execution_count": null,
      "outputs": [
        {
          "output_type": "stream",
          "text": [
            "\n",
            "Train performance:\n",
            "| MSE: 0.60 | RMSE: 0.78 |\n",
            "\n",
            "Dev performance:\n",
            "| MSE: 0.87 | RMSE: 0.93 |\n"
          ],
          "name": "stdout"
        }
      ]
    },
    {
      "cell_type": "code",
      "metadata": {
        "id": "84nQDZyBlDpg",
        "colab": {
          "base_uri": "https://localhost:8080/"
        },
        "outputId": "d9a13f5f-5e8c-411f-ef90-75825301a056"
      },
      "source": [
        "# Naive Bayes- Gaussian NB\r\n",
        "import numpy as np\r\n",
        "from sklearn.naive_bayes import GaussianNB\r\n",
        "train_and_dev = train_df['edit']\r\n",
        "\r\n",
        "training_data, dev_data, training_y, dev_y = train_test_split(train_df['edit'], train_df['meanGrade'],\r\n",
        "                                                                        test_size=(1-train_proportion),\r\n",
        "                                                                        random_state=42)\r\n",
        "\r\n",
        "# We train a Tf-idf model\r\n",
        "count_vect = CountVectorizer(stop_words='english')\r\n",
        "train_counts = count_vect.fit_transform(training_data)\r\n",
        "transformer = TfidfTransformer().fit(train_counts)\r\n",
        "train_counts = transformer.transform(train_counts)\r\n",
        "model = MultinomialNB()\r\n",
        "regression_model = model.fit(train_counts, training_y.astype('int'))\r\n",
        "\r\n",
        "model = GaussianNB()\r\n",
        "regression_model = model.fit(train_counts.toarray(), training_y.astype('int'))\r\n",
        "\r\n",
        "\r\n",
        "# Train predictions\r\n",
        "predicted_train = regression_model.predict(train_counts.toarray())\r\n",
        "\r\n",
        "# Calculate Tf-idf using train and dev, and validate model on dev:\r\n",
        "test_and_test_counts = count_vect.transform(train_and_dev)\r\n",
        "transformer = TfidfTransformer().fit(test_and_test_counts)\r\n",
        "\r\n",
        "test_counts = count_vect.transform(dev_data)\r\n",
        "\r\n",
        "test_counts = transformer.transform(test_counts)\r\n",
        "\r\n",
        "# Dev predictions\r\n",
        "predicted = regression_model.predict(test_counts.toarray())\r\n",
        "\r\n",
        "# We run the evaluation:\r\n",
        "print(\"\\nTrain performance:\")\r\n",
        "sse, mse = model_performance(predicted_train, training_y, True)\r\n",
        "\r\n",
        "print(\"\\nDev performance:\")\r\n",
        "sse, mse = model_performance(predicted, dev_y, True)"
      ],
      "execution_count": null,
      "outputs": [
        {
          "output_type": "stream",
          "text": [
            "\n",
            "Train performance:\n",
            "| MSE: 0.42 | RMSE: 0.65 |\n",
            "\n",
            "Dev performance:\n",
            "| MSE: 2.19 | RMSE: 1.48 |\n"
          ],
          "name": "stdout"
        }
      ]
    },
    {
      "cell_type": "code",
      "metadata": {
        "colab": {
          "base_uri": "https://localhost:8080/"
        },
        "id": "lHgWCw_HlzF4",
        "outputId": "7c10002b-5389-483d-b92c-b118fddab546"
      },
      "source": [
        "# polynomial regression\r\n",
        "\r\n",
        "from sklearn.preprocessing import PolynomialFeatures\r\n",
        "from sklearn.pipeline import make_pipeline\r\n",
        "from sklearn.linear_model import LinearRegression\r\n",
        "\r\n",
        "train_and_dev = train_df['edit']\r\n",
        "\r\n",
        "training_data, dev_data, training_y, dev_y = train_test_split(train_df['edit'], train_df['meanGrade'],\r\n",
        "                                                                        test_size=(1-train_proportion),\r\n",
        "                                                                        random_state=42)\r\n",
        "\r\n",
        "# We train a Tf-idf model\r\n",
        "count_vect = CountVectorizer(stop_words='english')\r\n",
        "train_counts = count_vect.fit_transform(training_data)\r\n",
        "transformer = TfidfTransformer().fit(train_counts)\r\n",
        "train_counts = transformer.transform(train_counts)\r\n",
        "degree = 2\r\n",
        "reg = make_pipeline(PolynomialFeatures(degree),LinearRegression())\r\n",
        "regression_model = reg.fit(train_counts, training_y)\r\n",
        "\r\n",
        "# Train predictions\r\n",
        "predicted_train = regression_model.predict(train_counts)\r\n",
        "\r\n",
        "# Calculate Tf-idf using train and dev, and validate model on dev:\r\n",
        "test_and_test_counts = count_vect.transform(train_and_dev)\r\n",
        "transformer = TfidfTransformer().fit(test_and_test_counts)\r\n",
        "\r\n",
        "test_counts = count_vect.transform(dev_data)\r\n",
        "\r\n",
        "test_counts = transformer.transform(test_counts)\r\n",
        "\r\n",
        "# Dev predictions\r\n",
        "predicted = regression_model.predict(test_counts)\r\n",
        "\r\n",
        "# We run the evaluation:\r\n",
        "print(\"\\nTrain performance:\")\r\n",
        "sse, mse = model_performance(predicted_train, training_y, True)\r\n",
        "\r\n",
        "print(\"\\nDev performance:\")\r\n",
        "sse, mse = model_performance(predicted, dev_y, True)"
      ],
      "execution_count": 16,
      "outputs": [
        {
          "output_type": "stream",
          "text": [
            "\n",
            "Train performance:\n",
            "| MSE: 0.13 | RMSE: 0.37 |\n",
            "\n",
            "Dev performance:\n",
            "| MSE: 0.36 | RMSE: 0.60 |\n"
          ],
          "name": "stdout"
        }
      ]
    },
    {
      "cell_type": "code",
      "metadata": {
        "id": "j4QECDXcKaSL",
        "colab": {
          "base_uri": "https://localhost:8080/"
        },
        "outputId": "d5e3ed9e-47df-4ded-ad38-76eacd04caf6"
      },
      "source": [
        "from tqdm import tqdm \r\n",
        "w2i = [] # word2index\r\n",
        "i2w = [] # index2word\r\n",
        "wvecs = [] # word vectors\r\n",
        "\r\n",
        "with codecs.open('custom_fasttext.txt', 'r','utf-8') as f: \r\n",
        "  index = 0\r\n",
        "  for line in tqdm(f.readlines()):\r\n",
        "    # Ignore the first line - first line typically contains vocab, dimensionality\r\n",
        "    if len(line.strip().split()) > 3:\r\n",
        "      \r\n",
        "      (word, vec) = (line.strip().split()[0], \r\n",
        "                     list(map(float,line.strip().split()[1:]))) \r\n",
        "      \r\n",
        "      wvecs.append(vec)\r\n",
        "      w2i.append((word, index))\r\n",
        "      i2w.append((index, word))\r\n",
        "      index += 1\r\n",
        "\r\n",
        "w2i = dict(w2i)\r\n",
        "i2w = dict(i2w)\r\n",
        "wvecs = np.array(wvecs)\r\n",
        "\r\n"
      ],
      "execution_count": null,
      "outputs": [
        {
          "output_type": "stream",
          "text": [
            "100%|██████████| 11394/11394 [00:00<00:00, 24737.16it/s]\n"
          ],
          "name": "stderr"
        }
      ]
    },
    {
      "cell_type": "code",
      "metadata": {
        "colab": {
          "base_uri": "https://localhost:8080/"
        },
        "id": "j3w4cuwlRnyH",
        "outputId": "f6fc2365-34e4-4506-9f8b-128104056802"
      },
      "source": [
        "from tqdm import tqdm \r\n",
        "w2i = [] # word2index\r\n",
        "i2w = [] # index2word\r\n",
        "wvecs = [] # word vectors\r\n",
        "\r\n",
        "with codecs.open('custom_word2vec.txt', 'r','utf-8') as f: \r\n",
        "  index = 0\r\n",
        "  for line in tqdm(f.readlines()):\r\n",
        "    # Ignore the first line - first line typically contains vocab, dimensionality\r\n",
        "    if len(line.strip().split()) > 3:\r\n",
        "      \r\n",
        "      (word, vec) = (line.strip().split()[0], \r\n",
        "                     list(map(float,line.strip().split()[1:]))) \r\n",
        "      \r\n",
        "      wvecs.append(vec)\r\n",
        "      w2i.append((word, index))\r\n",
        "      i2w.append((index, word))\r\n",
        "      index += 1\r\n",
        "\r\n",
        "w2i = dict(w2i)\r\n",
        "i2w = dict(i2w)\r\n",
        "wvecs = np.array(wvecs)"
      ],
      "execution_count": null,
      "outputs": [
        {
          "output_type": "stream",
          "text": [
            "100%|██████████| 11394/11394 [00:00<00:00, 25686.96it/s]\n"
          ],
          "name": "stderr"
        }
      ]
    },
    {
      "cell_type": "code",
      "metadata": {
        "id": "LMy1FxqyTBBJ",
        "colab": {
          "base_uri": "https://localhost:8080/"
        },
        "outputId": "de0c791b-cbc4-4c02-e5df-f9593814e0e8"
      },
      "source": [
        "# stemming\r\n",
        "from sklearn.feature_extraction.text import CountVectorizer\r\n",
        "from nltk.stem.snowball import EnglishStemmer\r\n",
        "from sklearn.ensemble import RandomForestRegressor\r\n",
        "stemmer = EnglishStemmer()\r\n",
        "analyzer = CountVectorizer().build_analyzer()\r\n",
        "\r\n",
        "def stemmed_words(doc):\r\n",
        "    return (stemmer.stem(w) for w in analyzer(doc))\r\n",
        "\r\n",
        "train_and_dev = train_df['edit']\r\n",
        "\r\n",
        "training_data, dev_data, training_y, dev_y = train_test_split(train_df['edit'], train_df['meanGrade'],\r\n",
        "                                                                        test_size=(1-train_proportion),\r\n",
        "                                                                        random_state=42)\r\n",
        "\r\n",
        "# We train a Tf-idf model\r\n",
        "count_vect = CountVectorizer(stop_words='english', analyzer=stemmed_words)\r\n",
        "train_counts = count_vect.fit_transform(training_data)\r\n",
        "transformer = TfidfTransformer().fit(train_counts)\r\n",
        "train_counts = transformer.transform(train_counts)\r\n",
        "regr = RandomForestRegressor(max_depth=20, random_state=0)\r\n",
        "#regression_model = LinearRegression().fit(train_counts, training_y)\r\n",
        "regression_model = regr.fit(train_counts, training_y)\r\n",
        "# Train predictions\r\n",
        "predicted_train = regression_model.predict(train_counts)\r\n",
        "\r\n",
        "# Calculate Tf-idf using train and dev, and validate model on dev:\r\n",
        "test_and_test_counts = count_vect.transform(train_and_dev)\r\n",
        "transformer = TfidfTransformer().fit(test_and_test_counts)\r\n",
        "\r\n",
        "test_counts = count_vect.transform(dev_data)\r\n",
        "\r\n",
        "test_counts = transformer.transform(test_counts)\r\n",
        "\r\n",
        "# Dev predictions\r\n",
        "predicted = regression_model.predict(test_counts)\r\n",
        "\r\n",
        "# We run the evaluation:\r\n",
        "print(\"\\nTrain performance:\")\r\n",
        "sse, mse = model_performance(predicted_train, training_y, True)\r\n",
        "\r\n",
        "print(\"\\nDev performance:\")\r\n",
        "sse, mse = model_performance(predicted, dev_y, True)"
      ],
      "execution_count": 31,
      "outputs": [
        {
          "output_type": "stream",
          "text": [
            "\n",
            "Train performance:\n",
            "| MSE: 0.32 | RMSE: 0.56 |\n",
            "\n",
            "Dev performance:\n",
            "| MSE: 0.33 | RMSE: 0.57 |\n"
          ],
          "name": "stdout"
        }
      ]
    },
    {
      "cell_type": "code",
      "metadata": {
        "colab": {
          "base_uri": "https://localhost:8080/"
        },
        "id": "QIxVquVzEUrT",
        "outputId": "83052ba2-a061-4ff6-97b4-0add13575926"
      },
      "source": [
        "import nltk\r\n",
        "nltk.download('punkt')\r\n",
        "nltk.download('wordnet')"
      ],
      "execution_count": 27,
      "outputs": [
        {
          "output_type": "stream",
          "text": [
            "[nltk_data] Downloading package punkt to /root/nltk_data...\n",
            "[nltk_data]   Package punkt is already up-to-date!\n",
            "[nltk_data] Downloading package wordnet to /root/nltk_data...\n",
            "[nltk_data]   Unzipping corpora/wordnet.zip.\n"
          ],
          "name": "stdout"
        },
        {
          "output_type": "execute_result",
          "data": {
            "text/plain": [
              "True"
            ]
          },
          "metadata": {
            "tags": []
          },
          "execution_count": 27
        }
      ]
    },
    {
      "cell_type": "code",
      "metadata": {
        "colab": {
          "base_uri": "https://localhost:8080/"
        },
        "id": "z86WxRD-oWrI",
        "outputId": "ff39de51-0fc7-4276-c0a2-cf1198e4d748"
      },
      "source": [
        "#Lemmatization\r\n",
        "from nltk import word_tokenize          \r\n",
        "from nltk.stem import WordNetLemmatizer \r\n",
        "from sklearn.ensemble import RandomForestRegressor\r\n",
        "class LemmaTokenizer(object):\r\n",
        "    def __init__(self):\r\n",
        "        self.wnl = WordNetLemmatizer()\r\n",
        "    def __call__(self, articles):\r\n",
        "        return [self.wnl.lemmatize(t) for t in word_tokenize(articles)]\r\n",
        "\r\n",
        "train_and_dev = train_df['edit']\r\n",
        "\r\n",
        "training_data, dev_data, training_y, dev_y = train_test_split(train_df['edit'], train_df['meanGrade'],\r\n",
        "                                                                        test_size=(1-train_proportion),\r\n",
        "                                                                        random_state=42)\r\n",
        "\r\n",
        "# We train a Tf-idf model\r\n",
        "count_vect = CountVectorizer(tokenizer=LemmaTokenizer(),\r\n",
        "                                #stop_words = 'english', \r\n",
        "                                lowercase = True)\r\n",
        "train_counts = count_vect.fit_transform(training_data)\r\n",
        "transformer = TfidfTransformer().fit(train_counts)\r\n",
        "train_counts = transformer.transform(train_counts)\r\n",
        "regr = RandomForestRegressor(max_depth=20, random_state=0)\r\n",
        "#regression_model = LinearRegression().fit(train_counts, training_y)\r\n",
        "regression_model = regr.fit(train_counts, training_y)\r\n",
        "\r\n",
        "# Train predictions\r\n",
        "predicted_train = regression_model.predict(train_counts)\r\n",
        "\r\n",
        "# Calculate Tf-idf using train and dev, and validate model on dev:\r\n",
        "test_and_test_counts = count_vect.transform(train_and_dev)\r\n",
        "transformer = TfidfTransformer().fit(test_and_test_counts)\r\n",
        "\r\n",
        "test_counts = count_vect.transform(dev_data)\r\n",
        "\r\n",
        "test_counts = transformer.transform(test_counts)\r\n",
        "\r\n",
        "# Dev predictions\r\n",
        "predicted = regression_model.predict(test_counts)\r\n",
        "\r\n",
        "# We run the evaluation:\r\n",
        "print(\"\\nTrain performance:\")\r\n",
        "sse, mse = model_performance(predicted_train, training_y, True)\r\n",
        "\r\n",
        "print(\"\\nDev performance:\")\r\n",
        "sse, mse = model_performance(predicted, dev_y, True)"
      ],
      "execution_count": 33,
      "outputs": [
        {
          "output_type": "stream",
          "text": [
            "\n",
            "Train performance:\n",
            "| MSE: 0.32 | RMSE: 0.56 |\n",
            "\n",
            "Dev performance:\n",
            "| MSE: 0.33 | RMSE: 0.57 |\n"
          ],
          "name": "stdout"
        }
      ]
    },
    {
      "cell_type": "code",
      "metadata": {
        "id": "1LJrelW7DrJw"
      },
      "source": [
        ""
      ],
      "execution_count": null,
      "outputs": []
    }
  ]
}
