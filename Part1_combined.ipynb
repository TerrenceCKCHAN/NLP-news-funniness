{
  "nbformat": 4,
  "nbformat_minor": 0,
  "metadata": {
    "colab": {
      "name": "Part1_combined.ipynb",
      "provenance": [],
      "collapsed_sections": [
        "eun0sMvJ90GZ",
        "jFSJ3fe0EC-R",
        "d98u6TeSGgvn"
      ]
    },
    "kernelspec": {
      "name": "python3",
      "display_name": "Python 3"
    },
    "accelerator": "GPU"
  },
  "cells": [
    {
      "cell_type": "markdown",
      "metadata": {
        "id": "8tBGqfXE-o3y"
      },
      "source": [
        "## Set up\r\n"
      ]
    },
    {
      "cell_type": "code",
      "metadata": {
        "id": "7XYibaPl9TXn",
        "colab": {
          "base_uri": "https://localhost:8080/"
        },
        "outputId": "a0ca96ad-591d-4859-9f59-3a0bc0c754bd"
      },
      "source": [
        "# Imports\r\n",
        "\r\n",
        "import nltk\r\n",
        "nltk.download(\"punkt\")\r\n",
        "\r\n",
        "# !pip install gensim\r\n",
        "import gensim\r\n",
        "\r\n",
        "import torch\r\n",
        "import torch.nn as nn\r\n",
        "import pandas as pd\r\n",
        "import numpy as np\r\n",
        "from sklearn.feature_extraction.text import CountVectorizer\r\n",
        "from torch.utils.data import Dataset, random_split\r\n",
        "from sklearn.feature_extraction.text import TfidfTransformer\r\n",
        "from sklearn.model_selection import train_test_split\r\n",
        "from sklearn.linear_model import LinearRegression\r\n",
        "import codecs\r\n",
        "import os\r\n",
        "\r\n",
        "import tensorboard as tb\r\n",
        "import tensorflow as tf\r\n",
        "\r\n",
        "import torch.nn.functional as F\r\n",
        "from torch.utils.tensorboard import SummaryWriter\r\n",
        "\r\n",
        "from tqdm import tqdm\r\n",
        "import random\r\n",
        "\r\n",
        "writer = SummaryWriter('runs/word2vec')"
      ],
      "execution_count": 6,
      "outputs": [
        {
          "output_type": "stream",
          "text": [
            "[nltk_data] Downloading package punkt to /root/nltk_data...\n",
            "[nltk_data]   Package punkt is already up-to-date!\n"
          ],
          "name": "stdout"
        }
      ]
    },
    {
      "cell_type": "code",
      "metadata": {
        "colab": {
          "base_uri": "https://localhost:8080/"
        },
        "id": "PZifcs_HULHo",
        "outputId": "d4a69992-23f9-4d88-85a8-f0966bd5cb48"
      },
      "source": [
        "# only run when running with data on mounted drive\n",
        "from google.colab import drive\n",
        "drive.mount('/content/drive')"
      ],
      "execution_count": null,
      "outputs": [
        {
          "output_type": "stream",
          "text": [
            "Mounted at /content/drive\n"
          ],
          "name": "stdout"
        }
      ]
    },
    {
      "cell_type": "code",
      "metadata": {
        "id": "jCmuKUmXD7rK"
      },
      "source": [
        "# !wget http://nlp.stanford.edu/data/glove.6B.zip\r\n",
        "# !unzip glove.6B.zip"
      ],
      "execution_count": null,
      "outputs": []
    },
    {
      "cell_type": "code",
      "metadata": {
        "id": "V38uzVSk9lbi"
      },
      "source": [
        "# Setting random seed and device\r\n",
        "SEED = 1\r\n",
        "\r\n",
        "torch.manual_seed(SEED)\r\n",
        "torch.cuda.manual_seed(SEED)\r\n",
        "torch.backends.cudnn.deterministic = True\r\n",
        "\r\n",
        "# mount drive\r\n",
        "if not os.path.exists('/content/drive/MyDrive/ICL AI/NLP/NLP_cw'):\r\n",
        "    print(\"making dir\")\r\n",
        "    os.makedirs('/content/drive/MyDrive/ICL AI/NLP/NLP_cw')\r\n",
        "\r\n",
        "# root_path = '/content/drive/MyDrive/ICL AI/NLP/NLP_cw/' for running from a mounted google drive\r\n",
        "\r\n",
        "# get runtime type\r\n",
        "use_cuda = torch.cuda.is_available()\r\n",
        "device = torch.device(\"cuda:0\" if use_cuda else \"cpu\")"
      ],
      "execution_count": 7,
      "outputs": []
    },
    {
      "cell_type": "markdown",
      "metadata": {
        "id": "I5FMny8--sCS"
      },
      "source": [
        "## Hyperparameters and data loading\r\n"
      ]
    },
    {
      "cell_type": "code",
      "metadata": {
        "id": "uONHCtoV-vuZ"
      },
      "source": [
        "# Load data for training purposes\r\n",
        "\r\n",
        "# These lines are for running files stored on a mounted google drive\r\n",
        "# train_df = pd.read_csv(f'{root_path}train.csv')\r\n",
        "# dev_df = pd.read_csv(f'{root_path}dev.csv')\r\n",
        "# test_df = pd.read_csv(f'{root_path}test.csv')\r\n",
        "\r\n",
        "# make sure data is in same folder as this file!\r\n",
        "# can be done with \"upload to session storage\" button in the files tab\r\n",
        "train_df = pd.read_csv('train.csv')\r\n",
        "dev_df = pd.read_csv('dev.csv')\r\n",
        "test_df = pd.read_csv('test.csv')"
      ],
      "execution_count": 31,
      "outputs": []
    },
    {
      "cell_type": "code",
      "metadata": {
        "id": "k53yu8r19o6S"
      },
      "source": [
        "# Number of epochs\r\n",
        "epochs = 10\r\n",
        "\r\n",
        "# Proportion of training data for train compared to dev\r\n",
        "train_proportion = 0.8\r\n",
        "\r\n",
        "# which batch size?\r\n",
        "BATCH_SIZE = 32  # hyperparam"
      ],
      "execution_count": 32,
      "outputs": []
    },
    {
      "cell_type": "code",
      "metadata": {
        "id": "RYuGH1nhICbS"
      },
      "source": [
        "# which model?\r\n",
        "# this affects:\r\n",
        "# - train/evaluation, as BiLSTM has an extra hidden layer initialisation step\r\n",
        "# - creation of features, as BiLSTM features are padded within batches and FFN\r\n",
        "#   features are padded within the entire dataset\r\n",
        "\r\n",
        "options_models = [\"BiLSTM\", \"BiLSTM-Attention\", \"FFN\"]\r\n",
        "\r\n",
        "model_to_run = 0  # 0 = BiLSTM, 1 = BiLSTM-Attention, 2 = FFN\r\n",
        "\r\n",
        "# which embedding?\r\n",
        "# affects:\r\n",
        "# - which embeddings file is loaded and used to make word2id, idx2word & wvecs\r\n",
        "# - which tokenizer is used, as GloVe doesn't play nice with the ntkl tokenizer\r\n",
        "\r\n",
        "# running with mounted drive\r\n",
        "# options = [f'{root_path}glove.6B.100d.txt', 'custom_word2vec.txt', \"custom_fasttext.txt\"]\r\n",
        "\r\n",
        "# running with files in working dir\r\n",
        "options = ['glove.6B.100d.txt', 'custom_word2vec.txt', \"custom_fasttext.txt\"]\r\n",
        "\r\n",
        "picked_embeddings = 1  # 0 = pre-made glove, 1 = custom word2vec, 2 = custom fasttext\r\n",
        "\r\n",
        "# file to load the embeddings from\r\n",
        "# embedding files should be txt and located in the same working dir as the .ipynb\r\n",
        "file_to_load = options[picked_embeddings]  "
      ],
      "execution_count": 33,
      "outputs": []
    },
    {
      "cell_type": "markdown",
      "metadata": {
        "id": "eun0sMvJ90GZ"
      },
      "source": [
        "## Preprocessing\r\n"
      ]
    },
    {
      "cell_type": "markdown",
      "metadata": {
        "id": "ypvEawWUBhnu"
      },
      "source": [
        "### Making vocabulary\r\n"
      ]
    },
    {
      "cell_type": "code",
      "metadata": {
        "id": "eLXdY2DBBazo"
      },
      "source": [
        "def create_vocab(data):\r\n",
        "    \"\"\"\r\n",
        "    Creating a corpus of all the tokens used\r\n",
        "    \"\"\"\r\n",
        "    tokenized_corpus = [] # Let us put the tokenized corpus in a list\r\n",
        "    punctuation_exclusion = [\",\", \"\\'\", \"\\\"\", \".\", \"‘\", \"’\"] \r\n",
        "\r\n",
        "    for sentence in data:\r\n",
        "\r\n",
        "        if picked_embeddings == 0: # glove embeddings\r\n",
        "\r\n",
        "          tokenized_sentence = []\r\n",
        "          for token in sentence.split(' '): # simplest split is whitespace\r\n",
        "            tokenized_sentence.append(token)\r\n",
        "\r\n",
        "            # tokenized_corpus.append(tokenized_sentence)\r\n",
        "        else:\r\n",
        "          # using nltk tokenizer for custom embeddings        \r\n",
        "          tokenized_sentence = nltk.tokenize.word_tokenize(sentence.lower())\r\n",
        "\r\n",
        "        cleaned = [token for token in tokenized_sentence if token not in punctuation_exclusion]\r\n",
        "        tokenized_corpus.append(cleaned)\r\n",
        "\r\n",
        "    # Create single list of all vocabulary\r\n",
        "    vocabulary = []  # Let us put all the tokens (mostly words) appearing in the vocabulary in a list\r\n",
        "\r\n",
        "    for sentence in tokenized_corpus:\r\n",
        "\r\n",
        "        for token in sentence:\r\n",
        "\r\n",
        "            if token not in vocabulary:\r\n",
        "\r\n",
        "                if True:\r\n",
        "                    vocabulary.append(token)\r\n",
        "\r\n",
        "    return vocabulary, tokenized_corpus"
      ],
      "execution_count": 34,
      "outputs": []
    },
    {
      "cell_type": "markdown",
      "metadata": {
        "id": "grvrWYyxBk3o"
      },
      "source": [
        "### Padding"
      ]
    },
    {
      "cell_type": "code",
      "metadata": {
        "id": "bfyNRwh3Bd-g"
      },
      "source": [
        "# not changed compared to provided implementation\r\n",
        "def collate_fn_padd(batch):\r\n",
        "    '''\r\n",
        "    We add padding to our minibatches and create tensors for our model\r\n",
        "    '''\r\n",
        "\r\n",
        "    batch_labels = [l for f, l in batch]\r\n",
        "    batch_features = [f for f, l in batch]\r\n",
        "\r\n",
        "    batch_features_len = [len(f) for f, l in batch]\r\n",
        "\r\n",
        "    seq_tensor = torch.zeros((len(batch), max(batch_features_len))).long()\r\n",
        "\r\n",
        "    for idx, (seq, seqlen) in enumerate(zip(batch_features, batch_features_len)):\r\n",
        "        seq_tensor[idx, :seqlen] = torch.LongTensor(seq)\r\n",
        "\r\n",
        "    batch_labels = torch.FloatTensor(batch_labels)\r\n",
        "\r\n",
        "    return seq_tensor, batch_labels\r\n",
        "\r\n",
        "class Task1Dataset(Dataset):\r\n",
        "\r\n",
        "    def __init__(self, train_data, labels):\r\n",
        "        self.x_train = train_data\r\n",
        "        self.y_train = labels\r\n",
        "\r\n",
        "    def __len__(self):\r\n",
        "        return len(self.y_train)\r\n",
        "\r\n",
        "    def __getitem__(self, item):\r\n",
        "        return self.x_train[item], self.y_train[item]"
      ],
      "execution_count": 35,
      "outputs": []
    },
    {
      "cell_type": "markdown",
      "metadata": {
        "id": "Q0RrQJm-BuIZ"
      },
      "source": [
        "## Model\r\n"
      ]
    },
    {
      "cell_type": "markdown",
      "metadata": {
        "id": "Eh9KyF1nDm8I"
      },
      "source": [
        "### BiLSTM\r\n"
      ]
    },
    {
      "cell_type": "code",
      "metadata": {
        "id": "sPupmNK0DqAy"
      },
      "source": [
        "# from provided implementation\r\n",
        "class BiLSTM(nn.Module):\r\n",
        "\r\n",
        "    def __init__(self, embedding_dim, hidden_dim, vocab_size, batch_size, device):\r\n",
        "        super(BiLSTM, self).__init__()\r\n",
        "        self.hidden_dim = hidden_dim\r\n",
        "        self.embedding_dim = embedding_dim\r\n",
        "        self.device = device\r\n",
        "        self.batch_size = batch_size\r\n",
        "        self.embedding = nn.Embedding(vocab_size, embedding_dim, padding_idx=0)\r\n",
        "\r\n",
        "        # The LSTM takes word embeddings as inputs, and outputs hidden states\r\n",
        "        # with dimensionality hidden_dim.\r\n",
        "        self.lstm = nn.LSTM(embedding_dim, hidden_dim, bidirectional=True)\r\n",
        "\r\n",
        "        # The linear layer that maps from hidden state space to tag space\r\n",
        "        self.hidden2label = nn.Linear(hidden_dim * 2, 1)\r\n",
        "        self.hidden = self.init_hidden()\r\n",
        "\r\n",
        "    def init_hidden(self):\r\n",
        "        # Before we've done anything, we dont have any hidden state.\r\n",
        "        # Refer to the Pytorch documentation to see exactly why they have this dimensionality.\r\n",
        "        # The axes semantics are (num_layers * num_directions, minibatch_size, hidden_dim)\r\n",
        "        return torch.zeros(2, self.batch_size, self.hidden_dim).to(self.device), \\\r\n",
        "               torch.zeros(2, self.batch_size, self.hidden_dim).to(self.device)\r\n",
        "\r\n",
        "    def forward(self, sentence):\r\n",
        "        embedded = self.embedding(sentence)\r\n",
        "        embedded = embedded.permute(1, 0, 2)\r\n",
        "\r\n",
        "        lstm_out, self.hidden = self.lstm(\r\n",
        "            embedded.view(len(embedded), self.batch_size, self.embedding_dim), self.hidden)\r\n",
        "\r\n",
        "        out = self.hidden2label(lstm_out[-1])\r\n",
        "        return out"
      ],
      "execution_count": 36,
      "outputs": []
    },
    {
      "cell_type": "markdown",
      "metadata": {
        "id": "KxNyjbbyDtIo"
      },
      "source": [
        "### Custom NN"
      ]
    },
    {
      "cell_type": "markdown",
      "metadata": {
        "id": "UsPapUCRFigV"
      },
      "source": [
        "#### BiLSTM Attention"
      ]
    },
    {
      "cell_type": "code",
      "metadata": {
        "id": "bZlMHTIAFmkB"
      },
      "source": [
        "class BiLSTM_ATT(nn.Module):\n",
        "\n",
        "    def __init__(self, embedding_dim, hidden_dim, vocab_size, batch_size, device):\n",
        "        super(BiLSTM_ATT, self).__init__()\n",
        "        self.hidden_dim = hidden_dim\n",
        "        self.embedding_dim = embedding_dim\n",
        "        self.device = device\n",
        "        self.batch_size = batch_size\n",
        "        self.embedding = nn.Embedding(vocab_size, embedding_dim, padding_idx=0)\n",
        "\n",
        "        # The LSTM takes word embeddings as inputs, and outputs hidden states\n",
        "        # with dimensionality hidden_dim.\n",
        "        self.lstm = nn.LSTM(embedding_dim, hidden_dim, bidirectional=True)\n",
        "\n",
        "        # The linear layer that maps from hidden state space to tag space\n",
        "        self.hidden2label = nn.Linear(hidden_dim * 2, 1)\n",
        "        self.hidden = self.init_hidden()\n",
        "        \n",
        "        # Attention layers\n",
        "        self.attention_linear = nn.Sequential(\n",
        "            nn.Linear(hidden_dim * 2, hidden_dim * 2, bias = True),\n",
        "            nn.Tanh(),\n",
        "        )\n",
        "        self.attention_softmax = nn.Softmax(dim = 0)\n",
        "\n",
        "\n",
        "    def init_hidden(self):\n",
        "        # Before we've done anything, we dont have any hidden state.\n",
        "        # Refer to the Pytorch documentation to see exactly why they have this dimensionality.\n",
        "        # The axes semantics are (num_layers * num_directions, minibatch_size, hidden_dim)\n",
        "        return torch.zeros(2, self.batch_size, self.hidden_dim).to(self.device), \\\n",
        "               torch.zeros(2, self.batch_size, self.hidden_dim).to(self.device)\n",
        "\n",
        "    def forward(self, sentence):\n",
        "        embedded = self.embedding(sentence)\n",
        "        embedded = embedded.permute(1, 0, 2)\n",
        "        lstm_out, self.hidden = self.lstm(\n",
        "            embedded.view(len(embedded), self.batch_size, self.embedding_dim), self.hidden)\n",
        "        \n",
        "        # Attention Layers\n",
        "        att_in = lstm_out\n",
        "        # Linear operation\n",
        "        att_linear = self.attention_linear(att_in[-1])\n",
        "        \n",
        "        # Apply softmax to get weight of h_ti, t being the num of length of embedded, i being our embedding dim\n",
        "        att_softmax = self.attention_softmax(att_linear)\n",
        "\n",
        "        # Extract feature vector\n",
        "        # Here we extract SUM_(j=1)^t w_i * h_i\n",
        "        feature_vector = torch.sum(att_softmax * att_in, dim=0)\n",
        "        # Feature vector now has size batch size * embedding dim\n",
        "\n",
        "        out = self.hidden2label(feature_vector)\n",
        "        return out"
      ],
      "execution_count": 37,
      "outputs": []
    },
    {
      "cell_type": "markdown",
      "metadata": {
        "id": "UbIwULGWvcYZ"
      },
      "source": [
        "#### Pytorch dense NN"
      ]
    },
    {
      "cell_type": "markdown",
      "metadata": {
        "id": "mRtNSpGeCb3v"
      },
      "source": [
        "Also attempted a GRU, but it didn't work, so stuck with feed-forward NN"
      ]
    },
    {
      "cell_type": "code",
      "metadata": {
        "id": "W0pvde-wu5Ui"
      },
      "source": [
        "class FFN(nn.Module):\r\n",
        "    def __init__(self, embedding_dim, vocab_size, batch_size, max_feature):\r\n",
        "        super(FFN, self).__init__()\r\n",
        "        self.embedding_dim = embedding_dim\r\n",
        "        self.batch_size = batch_size\r\n",
        "\r\n",
        "        self.embedding = nn.Embedding(vocab_size, embedding_dim)\r\n",
        "\r\n",
        "        self.model = nn.Sequential(\r\n",
        "            nn.Linear(embedding_dim*max_feature, 128),\r\n",
        "            nn.ReLU(),\r\n",
        "            nn.Linear(128, 64),\r\n",
        "            nn.ReLU(),\r\n",
        "            nn.Linear(64, 32),\r\n",
        "            nn.ReLU(),\r\n",
        "            nn.Linear(32, 1),\r\n",
        "            nn.Tanh()\r\n",
        "        )\r\n",
        "\r\n",
        "    def forward(self, x):\r\n",
        "      # input shape: [batch size, sentence length]\r\n",
        "      input_len = x.size()[1]\r\n",
        "\r\n",
        "      # print(\"input size:\", x.size()) \r\n",
        "      # print(\"input: \", x)\r\n",
        "\r\n",
        "      # embedding output shape: [batch size, sentence length, embedding dim]\r\n",
        "      embedded = self.embedding(x).view((self.batch_size, -1))\r\n",
        "\r\n",
        "      out = self.model(embedded)\r\n",
        "      return out"
      ],
      "execution_count": 38,
      "outputs": []
    },
    {
      "cell_type": "markdown",
      "metadata": {
        "id": "S3ZggpD3BMZA"
      },
      "source": [
        "## Train & eval\r\n"
      ]
    },
    {
      "cell_type": "code",
      "metadata": {
        "id": "I1Av0OzfBOJx"
      },
      "source": [
        "# We define our training loop\r\n",
        "def train(train_iter, dev_iter, model, number_epoch):\r\n",
        "    \"\"\"\r\n",
        "    Training loop for the model, which calls on eval to evaluate after each epoch\r\n",
        "    \"\"\"\r\n",
        "\r\n",
        "    \r\n",
        "    print(\"Training model.\")\r\n",
        "    print(type(model).__name__)\r\n",
        "\r\n",
        "    train_loss = []\r\n",
        "    valid_loss_l = []\r\n",
        "    train_mse = []\r\n",
        "    valid_mse_l = []\r\n",
        "    train_rmse = []\r\n",
        "    valid_rmse_l = []\r\n",
        "\r\n",
        "    for epoch in range(1, number_epoch+1):\r\n",
        "\r\n",
        "        model.train()\r\n",
        "        epoch_loss = 0\r\n",
        "        epoch_sse = 0\r\n",
        "        no_observations = 0  # Observations used for training so far\r\n",
        "\r\n",
        "        for batch in train_iter:\r\n",
        "\r\n",
        "            feature, target = batch\r\n",
        "\r\n",
        "            feature, target = feature.to(device), target.to(device)\r\n",
        "\r\n",
        "            # for RNN:\r\n",
        "            model.batch_size = target.shape[0]\r\n",
        "            no_observations = no_observations + target.shape[0]\r\n",
        "\r\n",
        "            # initalise hidden layers for BiLSTM (& BiLSTM w/ attention) only\r\n",
        "            if model_to_run == 0 or model_to_run == 1:  \r\n",
        "              model.hidden = model.init_hidden()\r\n",
        "\r\n",
        "            predictions = model(feature).squeeze(1)\r\n",
        "\r\n",
        "            optimizer.zero_grad()\r\n",
        "\r\n",
        "            loss = loss_fn(predictions, target)\r\n",
        "\r\n",
        "            sse, __ = model_performance(predictions.detach().cpu().numpy(), target.detach().cpu().numpy())\r\n",
        "\r\n",
        "            loss.backward()\r\n",
        "            optimizer.step()\r\n",
        "\r\n",
        "            epoch_loss += loss.item()*target.shape[0]\r\n",
        "            epoch_sse += sse\r\n",
        "\r\n",
        "        valid_loss, valid_mse, __, __ = eval(dev_iter, model)\r\n",
        "\r\n",
        "        epoch_loss, epoch_mse = epoch_loss / no_observations, epoch_sse / no_observations\r\n",
        "        print(f'| Epoch: {epoch:02} | Train Loss: {epoch_loss:.2f} | Train MSE: {epoch_mse:.2f} | Train RMSE: {epoch_mse**0.5:.2f} | \\\r\n",
        "        Val. Loss: {valid_loss:.2f} | Val. MSE: {valid_mse:.2f} |  Val. RMSE: {valid_mse**0.5:.2f} |')\r\n",
        "\r\n",
        "        train_loss.append(epoch_loss)\r\n",
        "        valid_loss_l.append(valid_loss)\r\n",
        "        train_mse.append(epoch_mse)\r\n",
        "        valid_mse_l.append(valid_mse)\r\n",
        "        train_rmse.append(epoch_mse**.5)\r\n",
        "        valid_rmse_l.append(valid_mse**.5)\r\n",
        "    return train_loss, train_mse, train_rmse, valid_loss_l, valid_mse_l, valid_rmse_l"
      ],
      "execution_count": 39,
      "outputs": []
    },
    {
      "cell_type": "code",
      "metadata": {
        "id": "5vf1n-U_BRgc"
      },
      "source": [
        "\r\n",
        "# We evaluate performance on our dev set\r\n",
        "def eval(data_iter, model):\r\n",
        "    \"\"\"\r\n",
        "    Evaluating model performance on the dev set\r\n",
        "    \"\"\"\r\n",
        "    model.eval()\r\n",
        "    epoch_loss = 0\r\n",
        "    epoch_sse = 0\r\n",
        "    pred_all = []\r\n",
        "    trg_all = []\r\n",
        "    no_observations = 0\r\n",
        "\r\n",
        "    with torch.no_grad():\r\n",
        "        for batch in data_iter:\r\n",
        "            feature, target = batch\r\n",
        "\r\n",
        "            feature, target = feature.to(device), target.to(device)\r\n",
        "\r\n",
        "            # for RNN:\r\n",
        "            model.batch_size = target.shape[0]\r\n",
        "            no_observations = no_observations + target.shape[0]\r\n",
        "            # hidden layers for BiLSTM\r\n",
        "            if model_to_run == 0 or model_to_run == 1:\r\n",
        "              model.hidden = model.init_hidden()\r\n",
        "\r\n",
        "            predictions = model(feature).squeeze(1)\r\n",
        "            loss = loss_fn(predictions, target)\r\n",
        "\r\n",
        "            # We get the mse\r\n",
        "            pred, trg = predictions.detach().cpu().numpy(), target.detach().cpu().numpy()\r\n",
        "            sse, __ = model_performance(pred, trg)\r\n",
        "\r\n",
        "            epoch_loss += loss.item()*target.shape[0]\r\n",
        "            epoch_sse += sse\r\n",
        "            pred_all.extend(pred)\r\n",
        "            trg_all.extend(trg)\r\n",
        "\r\n",
        "    return epoch_loss/no_observations, epoch_sse/no_observations, np.array(pred_all), np.array(trg_all)"
      ],
      "execution_count": 40,
      "outputs": []
    },
    {
      "cell_type": "code",
      "metadata": {
        "id": "2t3UqMhwBWAg"
      },
      "source": [
        "# How we print the model performance\r\n",
        "def model_performance(output, target, print_output=False):\r\n",
        "    \"\"\"\r\n",
        "    Returns SSE and MSE per batch (printing the MSE and the RMSE)\r\n",
        "    \"\"\"\r\n",
        "\r\n",
        "    sq_error = (output - target)**2\r\n",
        "\r\n",
        "    sse = np.sum(sq_error)\r\n",
        "    mse = np.mean(sq_error)\r\n",
        "    rmse = np.sqrt(mse)\r\n",
        "\r\n",
        "    if print_output:\r\n",
        "        print(f'| MSE: {mse:.2f} | RMSE: {rmse:.2f} |')\r\n",
        "\r\n",
        "    return sse, mse"
      ],
      "execution_count": 41,
      "outputs": []
    },
    {
      "cell_type": "markdown",
      "metadata": {
        "id": "_EZEjWv-B_MP"
      },
      "source": [
        "## Configure data\r\n"
      ]
    },
    {
      "cell_type": "markdown",
      "metadata": {
        "id": "20DTU-htGi5A"
      },
      "source": [
        "#### Edit original data"
      ]
    },
    {
      "cell_type": "code",
      "metadata": {
        "id": "t1ScGrt6GqQa"
      },
      "source": [
        "# Edit original sentences\n",
        "# replace word in original sentence with edit substitution\n",
        "\n",
        "import re\n",
        "\n",
        "# train\n",
        "original_training_data = train_df['original']\n",
        "train_edit = train_df['edit']\n",
        "train_edited = [re.sub('<(.+)/>', '<' + edit +'/>', data) for data, edit in zip(original_training_data, train_edit)]\n",
        "\n",
        "# dev\n",
        "original_dev_data = dev_df['original']\n",
        "dev_edit = dev_df['edit']\n",
        "dev_edited = [re.sub('<(.+)/>', '<' + edit + '/>', data) for data, edit in zip(original_dev_data, dev_edit)]\n",
        "\n",
        "# test\n",
        "original_test_data = test_df['original']\n",
        "test_edit = test_df['edit']\n",
        "test_edited = [re.sub('<(.+)/>', '<' + edit + '/>', data) for data, edit in zip(original_test_data, test_edit)]\n",
        "\n",
        "\n",
        "train_df['full_edited'] = train_edited\n",
        "dev_df['full_edited'] = dev_edited\n",
        "test_df['full_edited'] = test_edited"
      ],
      "execution_count": 42,
      "outputs": []
    },
    {
      "cell_type": "markdown",
      "metadata": {
        "id": "zGdNKissCcoo"
      },
      "source": [
        "#### Setting data, creating vocab"
      ]
    },
    {
      "cell_type": "code",
      "metadata": {
        "colab": {
          "base_uri": "https://localhost:8080/"
        },
        "id": "tlZ-1aHeCgNA",
        "outputId": "e157680a-21dd-4bfb-81f7-09115ac6ae1b"
      },
      "source": [
        "# We set our training data and dev data\r\n",
        "training_data = train_df['full_edited']\r\n",
        "dev_data = dev_df['full_edited']\r\n",
        "test_data = test_df[\"full_edited\"]\r\n",
        "\r\n",
        "# Creating word vectors from train data\r\n",
        "training_vocab, training_tokenized_corpus = create_vocab(training_data)\r\n",
        "\r\n",
        "# Creating word vectors from dev data\r\n",
        "dev_vocab, dev_tokenized_corpus = create_vocab(dev_data)\r\n",
        "\r\n",
        "# vector for test data\r\n",
        "test_vocab, test_tokenized_corpus = create_vocab(test_data)\r\n",
        "print(\"Test vocab created.\")\r\n",
        "\r\n",
        "# Creating joint vocab from dev and train:\r\n",
        "joint_vocab, joint_tokenized_corpus = create_vocab(pd.concat([training_data, dev_data]))\r\n",
        "print(\"Train & development vocab created.\")"
      ],
      "execution_count": 43,
      "outputs": [
        {
          "output_type": "stream",
          "text": [
            "Test vocab created.\n",
            "Train & development vocab created.\n"
          ],
          "name": "stdout"
        }
      ]
    },
    {
      "cell_type": "code",
      "metadata": {
        "colab": {
          "base_uri": "https://localhost:8080/"
        },
        "id": "28wxpSBlbPii",
        "outputId": "3590e7e1-445b-4dbe-98d3-cdbdc3987220"
      },
      "source": [
        "print(joint_tokenized_corpus[:10])"
      ],
      "execution_count": 44,
      "outputs": [
        {
          "output_type": "stream",
          "text": [
            "[['france', 'is', 'hunting', 'down', 'its', 'citizens', 'who', 'joined', '<', 'twins/', '>', 'without', 'trial', 'in', 'iraq'], ['pentagon', 'claims', '2,000', '%', 'increase', 'in', 'russian', 'trolls', 'after', '<', 'bowling/', '>', 'strikes', 'what', 'does', 'that', 'mean', '?'], ['iceland', 'pm', 'calls', 'snap', 'vote', 'as', 'pedophile', 'furor', 'crashes', '<', 'party/', '>'], ['in', 'an', 'apparent', 'first', 'iran', 'and', 'israel', '<', 'slap/', '>', 'each', 'other', 'militarily'], ['trump', 'was', 'told', 'weeks', 'ago', 'that', 'flynn', 'misled', '<', 'school/', '>', 'president'], ['all', '22', '<', 'sounds/', '>', 'trump', 'made', 'in', 'his', 'speech', 'to', 'congress', 'in', 'one', 'chart'], ['new', 'doj', 'alert', 'system', 'will', 'flag', '<', 'laughter/', '>', 'against', 'police'], ['as', 'someone', 'who', 'grew', 'up', 'among', 'fundamentalist', '<', 'morons/', '>', 'in', 'the', 'us', 'i', \"'m\", 'surprised', 'anyone', \"'s\", 'surprised', 'about', 'roy', 'moore'], ['canadians', 'may', 'pay', 'more', 'taxes', 'than', 'americans', 'but', 'here', \"'s\", 'what', 'they', 'get', 'for', 'their', '<', 'loonies/', '>'], ['dutch', 'minister', 'resigns', 'in', 'drug', 'baron', '<', 'blow/', '>']]\n"
          ],
          "name": "stdout"
        }
      ]
    },
    {
      "cell_type": "markdown",
      "metadata": {
        "id": "-iq40AKwCnNI"
      },
      "source": [
        "## Creating embeddings\r\n",
        "Pre-trained embeddings (GloVE) should be saved in the same folder as the embeddings created here. This is usually the working directory."
      ]
    },
    {
      "cell_type": "markdown",
      "metadata": {
        "id": "wOWJPASFVagz"
      },
      "source": [
        "##### word2vec with gensim"
      ]
    },
    {
      "cell_type": "code",
      "metadata": {
        "id": "OfPh1wKvVdfi"
      },
      "source": [
        "if picked_embeddings == 1:\r\n",
        "  # word2vec\r\n",
        "  model1 = gensim.models.Word2Vec(joint_tokenized_corpus, min_count = 1,  \r\n",
        "                                size = 100, window = 5, sg = 1)\r\n",
        "\r\n",
        "  model1.wv.save_word2vec_format(\"custom_word2vec.txt\")\r\n",
        "else:\r\n",
        "  print(f\"picked {options[picked_embeddings]} embeddings, so not creating custom word2vec embeddings\")"
      ],
      "execution_count": 45,
      "outputs": []
    },
    {
      "cell_type": "markdown",
      "metadata": {
        "id": "fj8ZKQnJ029v"
      },
      "source": [
        "##### fasttext with gensim\r\n"
      ]
    },
    {
      "cell_type": "code",
      "metadata": {
        "id": "DFZOdY01ydve",
        "colab": {
          "base_uri": "https://localhost:8080/"
        },
        "outputId": "91f74644-33b9-4441-ec04-49a34cb86041"
      },
      "source": [
        "# fasttext\r\n",
        "# fastText — which is essentially an extension of the word2vec model — \r\n",
        "# treats each *word* as composed of character n-grams. \r\n",
        "\r\n",
        "if picked_embeddings == 2: # fasttext\r\n",
        "  model2 = gensim.models.FastText(joint_tokenized_corpus, min_count = 1,\r\n",
        "                                  size=100, window = 5, sg = 1)\r\n",
        "\r\n",
        "  model2.wv.save_word2vec_format(\"custom_fasttext.txt\")\r\n",
        "else:\r\n",
        "  print(f\"picked {options[picked_embeddings]} embeddings, so not creating custom fasttext embeddings\")"
      ],
      "execution_count": 46,
      "outputs": [
        {
          "output_type": "stream",
          "text": [
            "picked custom_word2vec.txt embeddings, so not creating custom fasttext embeddings\n"
          ],
          "name": "stdout"
        }
      ]
    },
    {
      "cell_type": "markdown",
      "metadata": {
        "id": "xiqHkiHuxTL_"
      },
      "source": [
        "#### Set embeddings from text"
      ]
    },
    {
      "cell_type": "code",
      "metadata": {
        "id": "g2Y5_3RHtAen"
      },
      "source": [
        "# We create representations for our tokens\r\n",
        "\r\n",
        "# opens embeddings file set in previous cell\r\n",
        "def create_wvecs(embed_file, vocab, tokenized_corpus):\r\n",
        "  \"\"\"\r\n",
        "  Takes in whatever vocab & corpus\r\n",
        "  embed_file should be .txt file containing embeddings\r\n",
        "  \"\"\"\r\n",
        "  wvecs = [] # word vectors\r\n",
        "  word2idx = [] # word2index\r\n",
        "  idx2word = []\r\n",
        "\r\n",
        "  # This is a large file, it will take a while to load in the memory!\r\n",
        "  with codecs.open(embed_file, 'r','utf-8') as f:\r\n",
        "    index = 1\r\n",
        "    for line in f.readlines():\r\n",
        "      # Ignore the first line - first line typically contains vocab, dimensionality\r\n",
        "      if len(line.strip().split()) > 3:\r\n",
        "        word = line.strip().split()[0]\r\n",
        "        if word in vocab:\r\n",
        "            (word, vec) = (word,\r\n",
        "                      list(map(float,line.strip().split()[1:])))\r\n",
        "            wvecs.append(vec)\r\n",
        "            word2idx.append((word, index))\r\n",
        "            idx2word.append((index, word))\r\n",
        "            index += 1\r\n",
        "\r\n",
        "  wvecs = np.array(wvecs)\r\n",
        "  word2idx = dict(word2idx)\r\n",
        "  idx2word = dict(idx2word)\r\n",
        "\r\n",
        "  vectorized_seqs = [[word2idx[tok] for tok in seq if tok in word2idx] for seq in tokenized_corpus]\r\n",
        "\r\n",
        "  # To avoid any sentences being empty (if no words match to our word embeddings)\r\n",
        "  vectorized_seqs = [x if len(x) > 0 else [0] for x in vectorized_seqs]\r\n",
        "\r\n",
        "  return wvecs, word2idx, idx2word, vectorized_seqs\r\n"
      ],
      "execution_count": 47,
      "outputs": []
    },
    {
      "cell_type": "markdown",
      "metadata": {
        "id": "WXcouB6p7bHa"
      },
      "source": [
        "## Creating batches and model"
      ]
    },
    {
      "cell_type": "markdown",
      "metadata": {
        "id": "mp5U4D9EDErI"
      },
      "source": [
        "#### Splitting dataset & padding"
      ]
    },
    {
      "cell_type": "code",
      "metadata": {
        "id": "zhkAqxzTLI0J"
      },
      "source": [
        "wvecs, word2idx, idx2word, vectorized_seqs = create_wvecs(file_to_load, \r\n",
        "                                                          joint_vocab, \r\n",
        "                                                          training_tokenized_corpus)\r\n",
        "\r\n",
        "\r\n",
        "test_wvecs, _, _, vectorized_seqs_test = create_wvecs(file_to_load, \r\n",
        "                                                      test_vocab, \r\n",
        "                                                      test_tokenized_corpus)\r\n",
        "\r\n",
        "# manual padding to longest sentence\r\n",
        "def find_max_list(list_in):\r\n",
        "    list_len = [len(i) for i in list_in]\r\n",
        "    return max(list_len)\r\n",
        "\r\n",
        "\r\n",
        "# padd entire dataset to the longest sentence\r\n",
        "# used for the FFN, not necessary for the LSTM\r\n",
        "def padd_full_data(input_feature, max_len):\r\n",
        "  padd_feature = []\r\n",
        "  for sentence in input_feature:\r\n",
        "    if len(sentence) < max_len:\r\n",
        "\r\n",
        "      diff = max_len - len(sentence)\r\n",
        "      new_list = [0]*diff\r\n",
        "      sentence.extend(new_list)\r\n",
        "\r\n",
        "      assert len(sentence) == max_len\r\n",
        "\r\n",
        "    padd_feature.append(sentence)\r\n",
        "\r\n",
        "  return padd_feature\r\n",
        "\r\n",
        "if model_to_run == 0 or model_to_run == 1:  # BiLSTM or BiLSTM Attention\r\n",
        "  feature = vectorized_seqs\r\n",
        "  max_len = 90348 # placeholder, not used\r\n",
        "elif model_to_run == 2:  # FFN, all batches need to have same length\r\n",
        "\r\n",
        "  # check whether theres a sequence in the test set thats longer than in train\r\n",
        "  max_len_train = find_max_list(vectorized_seqs)\r\n",
        "  max_len_test = find_max_list(vectorized_seqs_test)\r\n",
        "\r\n",
        "  if max_len_train > max_len_test:\r\n",
        "    max_len = max_len_train\r\n",
        "  else:\r\n",
        "    max_len = max_len_test\r\n",
        "\r\n",
        "  # pad training sequences to max length in entire dataset\r\n",
        "  feature = padd_full_data(vectorized_seqs, max_len)\r\n",
        "\r\n",
        "  # pad test sequences to max length in entire dataset\r\n",
        "  feature_test = padd_full_data(vectorized_seqs_test, max_len)\r\n",
        "    "
      ],
      "execution_count": 48,
      "outputs": []
    },
    {
      "cell_type": "markdown",
      "metadata": {
        "id": "sS1JwXi5C71_"
      },
      "source": [
        "#### Creating model"
      ]
    },
    {
      "cell_type": "code",
      "metadata": {
        "colab": {
          "base_uri": "https://localhost:8080/"
        },
        "id": "oARCFR5CDBIm",
        "outputId": "870e0e57-754b-4b54-85ed-28df4e6aa180"
      },
      "source": [
        "INPUT_DIM = len(word2idx)  # numbers of tokens\r\n",
        "EMBEDDING_DIM = 100  # hyperparam\r\n",
        "MAX_LEN = max_len\r\n",
        "\r\n",
        "if model_to_run == 2:  # FFN, max len is length all sentences are padded to\r\n",
        "  model = FFN(EMBEDDING_DIM, INPUT_DIM, BATCH_SIZE, MAX_LEN)\r\n",
        "elif model_to_run == 0: # BiLSTM, 50 is hidden state size\r\n",
        "  model = BiLSTM(EMBEDDING_DIM, 50, INPUT_DIM, BATCH_SIZE, device)\r\n",
        "elif model_to_run == 1: # BiLSTM Attention, 50 is hidden state size\r\n",
        "  model = BiLSTM_ATT(EMBEDDING_DIM, 50, INPUT_DIM, BATCH_SIZE, device)\r\n",
        "\r\n",
        "print(\"Model initialised.\")\r\n",
        "\r\n",
        "model.to(device)\r\n",
        "# We provide the model with our embeddings\r\n",
        "model.embedding.weight.data.copy_(torch.from_numpy(wvecs))"
      ],
      "execution_count": 49,
      "outputs": [
        {
          "output_type": "stream",
          "text": [
            "Model initialised.\n"
          ],
          "name": "stdout"
        },
        {
          "output_type": "execute_result",
          "data": {
            "text/plain": [
              "tensor([[-0.2626, -0.3225, -0.4336,  ..., -0.0722, -0.0509,  0.0011],\n",
              "        [-0.1892, -0.1796, -0.2195,  ..., -0.2408, -0.1251, -0.2302],\n",
              "        [-0.1900,  0.0996, -0.3005,  ...,  0.0351, -0.1225, -0.2365],\n",
              "        ...,\n",
              "        [-0.0230, -0.0565, -0.0452,  ..., -0.0168, -0.0100, -0.0215],\n",
              "        [-0.0227, -0.0621, -0.0484,  ..., -0.0228, -0.0090, -0.0210],\n",
              "        [-0.0217, -0.0533, -0.0508,  ..., -0.0258, -0.0096, -0.0175]],\n",
              "       device='cuda:0')"
            ]
          },
          "metadata": {
            "tags": []
          },
          "execution_count": 49
        }
      ]
    },
    {
      "cell_type": "markdown",
      "metadata": {
        "id": "95pmtD63Yq-e"
      },
      "source": [
        "### Creating train & dev set"
      ]
    },
    {
      "cell_type": "code",
      "metadata": {
        "id": "FhvywH_XDHfw",
        "colab": {
          "base_uri": "https://localhost:8080/"
        },
        "outputId": "ab0429ba-a28c-4450-fe51-6ff8f6787ad5"
      },
      "source": [
        "\r\n",
        "train_and_dev = Task1Dataset(feature, train_df['meanGrade'])\r\n",
        "\r\n",
        "train_examples = round(len(train_and_dev)*train_proportion)\r\n",
        "dev_examples = len(train_and_dev) - train_examples\r\n",
        "\r\n",
        "train_dataset, dev_dataset = random_split(train_and_dev,\r\n",
        "                                           (train_examples,\r\n",
        "                                            dev_examples))\r\n",
        "\r\n",
        "train_loader = torch.utils.data.DataLoader(train_dataset, shuffle=True, batch_size=BATCH_SIZE, collate_fn=collate_fn_padd)\r\n",
        "dev_loader = torch.utils.data.DataLoader(dev_dataset, batch_size=BATCH_SIZE, collate_fn=collate_fn_padd)\r\n",
        "\r\n",
        "print(\"Dataloaders created.\")"
      ],
      "execution_count": 50,
      "outputs": [
        {
          "output_type": "stream",
          "text": [
            "Dataloaders created.\n"
          ],
          "name": "stdout"
        }
      ]
    },
    {
      "cell_type": "markdown",
      "metadata": {
        "id": "PrL21L4V7dVS"
      },
      "source": [
        "## Running model"
      ]
    },
    {
      "cell_type": "markdown",
      "metadata": {
        "id": "LM69uHwxDILw"
      },
      "source": [
        "#### Running model"
      ]
    },
    {
      "cell_type": "code",
      "metadata": {
        "colab": {
          "base_uri": "https://localhost:8080/"
        },
        "id": "jfpiPnn792fZ",
        "outputId": "d69823ce-fd23-4c8e-beea-6fda16654dd0"
      },
      "source": [
        "loss_fn = nn.MSELoss()\r\n",
        "loss_fn = loss_fn.to(device)\r\n",
        "\r\n",
        "optimizer = torch.optim.Adam(model.parameters())\r\n",
        "\r\n",
        "print(f\"running model {options_models[model_to_run]} with embeddings {file_to_load}\")\r\n",
        "\r\n",
        "# save variables for making graphs\r\n",
        "train_l, train_mse, train_rmse, valid_l, valid_mse, valid_rmse = train(train_loader,dev_loader, model,epochs)\r\n"
      ],
      "execution_count": 51,
      "outputs": [
        {
          "output_type": "stream",
          "text": [
            "running model BiLSTM with embeddings custom_word2vec.txt\n",
            "Training model.\n",
            "BiLSTM\n",
            "| Epoch: 01 | Train Loss: 0.36 | Train MSE: 0.36 | Train RMSE: 0.60 |         Val. Loss: 0.35 | Val. MSE: 0.35 |  Val. RMSE: 0.59 |\n",
            "| Epoch: 02 | Train Loss: 0.34 | Train MSE: 0.34 | Train RMSE: 0.58 |         Val. Loss: 0.35 | Val. MSE: 0.35 |  Val. RMSE: 0.59 |\n",
            "| Epoch: 03 | Train Loss: 0.27 | Train MSE: 0.27 | Train RMSE: 0.52 |         Val. Loss: 0.36 | Val. MSE: 0.36 |  Val. RMSE: 0.60 |\n",
            "| Epoch: 04 | Train Loss: 0.15 | Train MSE: 0.15 | Train RMSE: 0.39 |         Val. Loss: 0.36 | Val. MSE: 0.36 |  Val. RMSE: 0.60 |\n",
            "| Epoch: 05 | Train Loss: 0.10 | Train MSE: 0.10 | Train RMSE: 0.32 |         Val. Loss: 0.35 | Val. MSE: 0.35 |  Val. RMSE: 0.59 |\n",
            "| Epoch: 06 | Train Loss: 0.08 | Train MSE: 0.08 | Train RMSE: 0.28 |         Val. Loss: 0.38 | Val. MSE: 0.38 |  Val. RMSE: 0.62 |\n",
            "| Epoch: 07 | Train Loss: 0.06 | Train MSE: 0.06 | Train RMSE: 0.24 |         Val. Loss: 0.38 | Val. MSE: 0.38 |  Val. RMSE: 0.62 |\n",
            "| Epoch: 08 | Train Loss: 0.05 | Train MSE: 0.05 | Train RMSE: 0.22 |         Val. Loss: 0.42 | Val. MSE: 0.42 |  Val. RMSE: 0.65 |\n",
            "| Epoch: 09 | Train Loss: 0.04 | Train MSE: 0.04 | Train RMSE: 0.20 |         Val. Loss: 0.42 | Val. MSE: 0.42 |  Val. RMSE: 0.65 |\n",
            "| Epoch: 10 | Train Loss: 0.04 | Train MSE: 0.04 | Train RMSE: 0.19 |         Val. Loss: 0.42 | Val. MSE: 0.42 |  Val. RMSE: 0.65 |\n"
          ],
          "name": "stdout"
        }
      ]
    },
    {
      "cell_type": "markdown",
      "metadata": {
        "id": "oIwn7Wg3HTlY"
      },
      "source": [
        "#### Running model on test data"
      ]
    },
    {
      "cell_type": "code",
      "metadata": {
        "id": "j5X2w0-zHl_-",
        "colab": {
          "base_uri": "https://localhost:8080/"
        },
        "outputId": "dd42a88c-2195-4bbf-d1d7-70d34838f774"
      },
      "source": [
        "def model_test(data_iter, model):\n",
        "    \"\"\"\n",
        "    Evaluating model performance on the test set\n",
        "    \"\"\"\n",
        "    test_loss, test_mse, _, _ = eval(data_iter, model)\n",
        "\n",
        "    print(f'| Test Loss: {test_loss:.2f} | Test MSE: {test_mse:.2f} |  Test RMSE: {test_mse**0.5:.2f} |')\n",
        "\n",
        "test_data = test_df['full_edited']\n",
        "\n",
        "# test vocab, test_wvecs & vectorized_seqs_test are already initialised above\n",
        "\n",
        "# We provide the model with our embeddings\n",
        "if model_to_run == 0 or model_to_run == 1:  # BiLSTM or BiLSTM with attention\n",
        "  feature_test = vectorized_seqs_test\n",
        "elif model_to_run == 2: # FFN\n",
        "  feature_test = feature_test  # already set earlier on\n",
        "\n",
        "test_dataset = Task1Dataset(feature_test, test_df['meanGrade'])\n",
        "\n",
        "test_loader = torch.utils.data.DataLoader(test_dataset, shuffle=True, \n",
        "                                          batch_size=BATCH_SIZE, \n",
        "                                          collate_fn=collate_fn_padd)\n",
        "\n",
        "print(\"Dataloaders created.\")\n",
        "\n",
        "loss_fn = nn.MSELoss()\n",
        "loss_fn = loss_fn.to(device)\n",
        "\n",
        "print(f\"Testing on {options_models[model_to_run]} with embeddings {file_to_load}\")\n",
        "model_test(test_loader, model)"
      ],
      "execution_count": 52,
      "outputs": [
        {
          "output_type": "stream",
          "text": [
            "Dataloaders created.\n",
            "Testing on BiLSTM with embeddings custom_word2vec.txt\n",
            "| Test Loss: 0.53 | Test MSE: 0.53 |  Test RMSE: 0.73 |\n"
          ],
          "name": "stdout"
        }
      ]
    },
    {
      "cell_type": "markdown",
      "metadata": {
        "id": "hxfEKTjbv84T"
      },
      "source": [
        "### Plotting"
      ]
    },
    {
      "cell_type": "code",
      "metadata": {
        "colab": {
          "base_uri": "https://localhost:8080/",
          "height": 312
        },
        "id": "3sZskBf7v-_j",
        "outputId": "939c38bd-e54b-4f80-9fc5-f5b2b52f60b3"
      },
      "source": [
        "import matplotlib.pyplot as plt\r\n",
        "\r\n",
        "plt.style.use(\"bmh\")\r\n",
        "plt.plot(np.arange(0, len(train_l)), train_l, label=\"train loss\")\r\n",
        "plt.plot(np.arange(0, len(valid_l)), valid_l, label=\"validation loss\")\r\n",
        "\r\n",
        "# plt.plot(np.arange(0, len(train_rsme)), train_rsme, label=\"train RMSE\")\r\n",
        "# plt.plot(np.arange(0, len(valid_rsme)), valid_rsme, label=\"validation RMSE\")\r\n",
        "plt.legend(loc=\"best\")\r\n",
        "\r\n",
        "plt.ylabel(\"Loss\")\r\n",
        "plt.xlabel(\"epochs\")\r\n",
        "\r\n",
        "plt.title(f\"Train and validation loss over the epochs for {options_models[model_to_run]} model\\n\"\r\n",
        "          f\"Trained on {file_to_load} embeddings\")\r\n",
        "\r\n",
        "plt.show()\r\n",
        "# print(train_losses_D)\r\n",
        "# print(train_losses_G)"
      ],
      "execution_count": 53,
      "outputs": [
        {
          "output_type": "display_data",
          "data": {
            "image/png": "[encoded data removed]",
            "text/plain": [
              "<Figure size 432x288 with 1 Axes>"
            ]
          },
          "metadata": {
            "tags": [],
            "needs_background": "light"
          }
        }
      ]
    }
  ]
}